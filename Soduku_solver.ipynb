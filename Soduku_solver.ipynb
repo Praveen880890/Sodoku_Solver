{
 "cells": [
  {
   "cell_type": "code",
   "execution_count": 1,
   "id": "e6a19d60-a0b2-43c8-9edf-e69f228578ba",
   "metadata": {},
   "outputs": [],
   "source": [
    "def is_valid_move(grid,row,col,number):\n",
    "    for x in range(9):\n",
    "        if grid[row][x] == number:\n",
    "            return False\n",
    "    for x in range(9):\n",
    "        if grid[x][col] == number:\n",
    "            return False\n",
    "    corner_row = row - row%3\n",
    "    corner_col = col - col%3\n",
    "    for x in range(3):\n",
    "        for y in range(3):\n",
    "            if grid[corner_row + x][corner_col +y] == number:\n",
    "                return False\n",
    "    return True\n",
    "\n",
    "            "
   ]
  },
  {
   "cell_type": "code",
   "execution_count": 2,
   "id": "e634ee23-c8a7-492a-8939-22b6a0029bc3",
   "metadata": {},
   "outputs": [],
   "source": [
    "def solve(grid,row,col):\n",
    "    if col == 9:\n",
    "        if row == 8:\n",
    "            return True\n",
    "        row +=1\n",
    "        col = 0\n",
    "    if grid[row][col]> 0:\n",
    "        return solve(grid,row,col+1)\n",
    "    for num in range(1,10):\n",
    "        if is_valid_move(grid,row,col,num):\n",
    "            grid[row][col] = num\n",
    "\n",
    "            if solve(grid,row,col+1):\n",
    "                return True\n",
    "        grid[row][col] = 0\n",
    "    return False\n"
   ]
  },
  {
   "cell_type": "code",
   "execution_count": 6,
   "id": "688cf110-ec99-4b12-9fdf-b9ed561e30bb",
   "metadata": {},
   "outputs": [
    {
     "name": "stdout",
     "output_type": "stream",
     "text": [
      "1 7 2 5 4 9 6 8 3 \n",
      "6 4 5 8 7 3 2 1 9 \n",
      "3 8 9 2 6 1 7 4 5 \n",
      "4 9 6 3 2 7 8 5 1 \n",
      "8 1 3 4 5 6 9 7 2 \n",
      "2 5 7 1 9 8 4 3 6 \n",
      "9 6 4 7 1 5 3 2 8 \n",
      "7 3 1 6 8 2 5 9 4 \n",
      "5 2 8 9 3 4 1 6 7 \n",
      "[[1, 7, 2, 5, 4, 9, 6, 8, 3], [6, 4, 5, 8, 7, 3, 2, 1, 9], [3, 8, 9, 2, 6, 1, 7, 4, 5], [4, 9, 6, 3, 2, 7, 8, 5, 1], [8, 1, 3, 4, 5, 6, 9, 7, 2], [2, 5, 7, 1, 9, 8, 4, 3, 6], [9, 6, 4, 7, 1, 5, 3, 2, 8], [7, 3, 1, 6, 8, 2, 5, 9, 4], [5, 2, 8, 9, 3, 4, 1, 6, 7]]\n"
     ]
    }
   ],
   "source": [
    "grid = [[0,0,0,0,0,0,6,8,0],\n",
    "        [0,0,0,0,7,3,0,0,9],\n",
    "        [3,0,9,0,0,0,0,4,5],\n",
    "        [4,9,0,0,0,0,0,0,0],\n",
    "        [8,0,3,0,5,0,9,0,2],\n",
    "        [0,0,0,0,0,0,0,3,6],\n",
    "        [9,6,0,0,0,0,3,0,8],\n",
    "        [7,0,0,6,8,0,0,0,0],\n",
    "        [0,2,8,0,0,0,0,0,0],\n",
    "       ]\n",
    "if solve(grid,0,0):\n",
    "    for i in range(9):\n",
    "        for j in range(9):\n",
    "            print(grid[i][j],end=\" \")\n",
    "        print()\n",
    "    print(grid)\n",
    "else:\n",
    "    print(\"No solution\")"
   ]
  },
  {
   "cell_type": "code",
   "execution_count": null,
   "id": "1526990c-e469-4c0d-beb9-b3d1df8971fe",
   "metadata": {},
   "outputs": [],
   "source": []
  }
 ],
 "metadata": {
  "kernelspec": {
   "display_name": "Python 3 (ipykernel)",
   "language": "python",
   "name": "python3"
  },
  "language_info": {
   "codemirror_mode": {
    "name": "ipython",
    "version": 3
   },
   "file_extension": ".py",
   "mimetype": "text/x-python",
   "name": "python",
   "nbconvert_exporter": "python",
   "pygments_lexer": "ipython3",
   "version": "3.8.10"
  }
 },
 "nbformat": 4,
 "nbformat_minor": 5
}
